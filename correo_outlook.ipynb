{
 "cells": [
  {
   "cell_type": "code",
   "execution_count": 3,
   "metadata": {},
   "outputs": [],
   "source": [
    "#Rutina de envío por correo\n",
    "\n",
    "import win32com.client as win32\n",
    "from pathlib import Path\n",
    "from datetime import date\n",
    "\n",
    "to_email = \"\"\"\n",
    "correo1@yahoo.es\n",
    "\"\"\"\n",
    "\n",
    "cc_email = \"\"\"\n",
    "correo2@gmail.com\n",
    "\"\"\"\n",
    "\n",
    "# Define la ruta del archivo a adjuntar\n",
    "out_file = Path.cwd() / \"Resumen01.IMD\"\n",
    "\n",
    "# Abre Outlook y crea nuevo correo\n",
    "outlook = win32.gencache.EnsureDispatch('Outlook.Application')\n",
    "new_mail = outlook.CreateItem(0)\n",
    "\n",
    "# Texto del asunto y cuerpo del correo\n",
    "new_mail.Subject = \"{:%d/%m/%y} Reporte Actualizado\".format(date.today())\n",
    "new_mail.Body = 'Estimado usuario, sírvase enviarnos sus comentarios sobre la información enviada. Gracias'\n",
    "\n",
    "# Añade destinatarios del correo\n",
    "new_mail.To = to_email\n",
    "new_mail.CC = cc_email\n",
    "\n",
    "# Adjunta el archivo definido previamente\n",
    "attachment1 = out_file\n",
    "\n",
    "# The file needs to be a string not a path object\n",
    "new_mail.Attachments.Add(Source=str(attachment1))\n",
    "\n",
    "# Pantalla del correo antes del envío (activar si es necesario)\n",
    "#new_mail.Display(True)\n",
    "\n",
    "new_mail.Send()\n"
   ]
  },
  {
   "cell_type": "code",
   "execution_count": null,
   "metadata": {},
   "outputs": [],
   "source": []
  }
 ],
 "metadata": {
  "kernelspec": {
   "display_name": "Python 3",
   "language": "python",
   "name": "python3"
  },
  "language_info": {
   "codemirror_mode": {
    "name": "ipython",
    "version": 3
   },
   "file_extension": ".py",
   "mimetype": "text/x-python",
   "name": "python",
   "nbconvert_exporter": "python",
   "pygments_lexer": "ipython3",
   "version": "3.7.6"
  }
 },
 "nbformat": 4,
 "nbformat_minor": 4
}
